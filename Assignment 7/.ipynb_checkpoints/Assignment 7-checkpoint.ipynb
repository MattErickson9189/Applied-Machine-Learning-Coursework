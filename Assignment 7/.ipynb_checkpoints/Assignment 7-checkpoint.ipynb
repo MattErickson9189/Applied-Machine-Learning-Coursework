{
 "cells": [
  {
   "cell_type": "markdown",
   "metadata": {},
   "source": [
    "# <center>CSIS 452 - Applied Machine Learning</center>\n",
    "## Assignment 7 - due: 5/7/2020\n",
    "In this assignment you will develop a Deep Neural Network (DNN) for handwritten digit recognition using MNIST data set.\n",
    "\n",
    "Enter your name as a comment in the cell below"
   ]
  },
  {
   "cell_type": "code",
   "execution_count": 1,
   "metadata": {},
   "outputs": [],
   "source": [
    "#Matt Erickson"
   ]
  },
  {
   "cell_type": "code",
   "execution_count": 1,
   "metadata": {},
   "outputs": [
    {
     "name": "stderr",
     "output_type": "stream",
     "text": [
      "Using TensorFlow backend.\n"
     ]
    }
   ],
   "source": [
    "import numpy as np\n",
    "import matplotlib\n",
    "import matplotlib.pyplot as plt\n",
    "from sklearn.model_selection import train_test_split\n",
    "from sklearn.metrics import accuracy_score, confusion_matrix, precision_score, recall_score, f1_score\n",
    "\n",
    "import keras\n",
    "from keras import optimizers\n",
    "from keras import losses\n",
    "from keras import metrics\n",
    "from keras.models import Sequential\n",
    "from keras.layers import Dense, Activation\n",
    "from keras import backend as K \n",
    "from keras.layers.normalization import BatchNormalization\n",
    "from keras.layers import Dropout"
   ]
  },
  {
   "cell_type": "markdown",
   "metadata": {},
   "source": [
    "The following function can be used to display a random sample of images along with targets and predicted class."
   ]
  },
  {
   "cell_type": "code",
   "execution_count": 2,
   "metadata": {},
   "outputs": [],
   "source": [
    "def display_a_random_sample_of_images(grid_size, images, targets, predictions=np.array([]), title=\"images\"):\n",
    "    \"\"\" \n",
    "    Displayes a random sample of images with the corresponding targets\n",
    "    \n",
    "    \n",
    "    Argument:\n",
    "        grid_size -- size of subplot will be grid_sizeXgrid_size.\n",
    "        images -- an array of images 32x32  (num_images x 8 x 8)\n",
    "        targets -- an array of class values (num_images x 1) containing class values \n",
    "             between 0 and 9  \n",
    "        predictions -- an array of predicted class values (nume_images X 1) containig predicted\n",
    "             class values between 0 and 9\n",
    "    Returns:\n",
    "        None\n",
    "    \"\"\"\n",
    "\n",
    "    class_names = ['0','1','2','3','4','5','6','7','8','9']\n",
    "    #reshape the images for display\n",
    "    \n",
    "    fig, axes1 = plt.subplots(grid_size,grid_size,figsize=(3,3))\n",
    "    fig.suptitle(title, fontsize=\"x-small\")\n",
    "    plt.subplots_adjust(left=None, bottom=None, right=None, top=None, wspace=0.8, hspace=0.8)\n",
    "    \n",
    "    for j in range(grid_size):\n",
    "        for k in range(grid_size):\n",
    "            i = np.random.choice(range(len(images)))\n",
    "            axes1[j][k].set_axis_off()\n",
    "            if predictions.size > 0:\n",
    "                axes1[j][k].set_title(class_names[targets[i]]+\",\"+class_names[predictions[i]])\n",
    "            else:\n",
    "                axes1[j][k].set_title(class_names[targets[i]])\n",
    "            axes1[j][k].title.set_fontsize(8)\n",
    "            axes1[j][k].imshow(images[i, :,:], cmap = matplotlib.cm.binary, interpolation=\"nearest\")"
   ]
  },
  {
   "cell_type": "markdown",
   "metadata": {},
   "source": [
    "Let's first load the data set from keras datasets.  You will need to look at Keras datasets documentation, learn about the MNIST data set and develop the code below."
   ]
  },
  {
   "cell_type": "code",
   "execution_count": 3,
   "metadata": {},
   "outputs": [],
   "source": [
    "#Copy your code from last assignment and place it here\n",
    "from keras.datasets import mnist\n",
    "def load_digits():\n",
    "    \"\"\"\n",
    "    Load and returns images and targets from the sklearn digits dataset.  \n",
    "    \n",
    "    Arguments: None\n",
    "    \n",
    "    #Returns: \n",
    "        images -- an array of digit images (num_imagesX8x8) \n",
    "               -- images are in normlaized form\n",
    "        target_classes -- an array of class values (num_imagesX1) containing \n",
    "        class values between 0 and 9\n",
    "\n",
    "    \"\"\"    \n",
    "\n",
    "    (X_train, y_train), (X_test, y_test) = mnist.load_data()\n",
    "    \n",
    "    return X_train, y_train, X_test, y_test"
   ]
  },
  {
   "cell_type": "markdown",
   "metadata": {},
   "source": [
    "Now, let's load the images and display a random sample of 9 images in a 3-by-3 grid along with their corresponding target class using the functions developed above."
   ]
  },
  {
   "cell_type": "code",
   "execution_count": 4,
   "metadata": {},
   "outputs": [
    {
     "name": "stdout",
     "output_type": "stream",
     "text": [
      "(60000, 28, 28) (60000,) (10000, 28, 28) (10000,)\n"
     ]
    },
    {
     "data": {
      "image/png": "[encoded data removed]",
      "text/plain": [
       "<Figure size 216x216 with 9 Axes>"
      ]
     },
     "metadata": {
      "needs_background": "light"
     },
     "output_type": "display_data"
    }
   ],
   "source": [
    "X_train, y_train, X_test, y_test = load_digits()\n",
    "print(X_train.shape, y_train.shape, X_test.shape, y_test.shape)\n",
    "np.random.seed(2)\n",
    "display_a_random_sample_of_images(3, X_train, y_train, title=\"images\")\n",
    "plt.show()"
   ]
  },
  {
   "cell_type": "markdown",
   "metadata": {},
   "source": [
    "## Expected output:\n",
    "<img src=\"Figure1.png\" width=\"20%\" height=\"20%\" align=\"left\"> <br>\n"
   ]
  },
  {
   "cell_type": "markdown",
   "metadata": {},
   "source": [
    "Next, we will reshape the train images from 60000 x 28 x 28 to 60000 x 784 and test images from 10000 x 28 x 28 to 10000 x 784. This way, each image will be represented with a vector of 784 pixel values. We will also reshape the targets to a rank-2 vector."
   ]
  },
  {
   "cell_type": "code",
   "execution_count": 5,
   "metadata": {},
   "outputs": [
    {
     "name": "stdout",
     "output_type": "stream",
     "text": [
      "(60000, 784) (60000, 1) (10000, 784) (10000, 1)\n"
     ]
    }
   ],
   "source": [
    "#Copy your code from last assignment and place it here\n",
    "X_train_flat = np.reshape(X_train,(-1,784))\n",
    "y_train_flat = np.reshape(y_train,(-1,1))\n",
    "X_test_flat = np.reshape(X_test,(10000,784))\n",
    "y_test_flat = np.reshape(y_test,(10000,1))\n",
    "\n",
    "print(X_train_flat.shape, y_train_flat.shape, X_test_flat.shape, y_test_flat.shape)"
   ]
  },
  {
   "cell_type": "markdown",
   "metadata": {},
   "source": [
    "## Expected output:\n",
    "(60000, 784) (60000, 1) (10000, 784) (10000, 1)"
   ]
  },
  {
   "cell_type": "markdown",
   "metadata": {},
   "source": [
    "We will now develop and train a six-layer (nx-128(ReLu)-64(ReLu)-32(ReLu)-16(ReLu)-8(ReLu)-ny(softmax)) Deep Neural Network (DNN) and train it using the data we just extracted.\n",
    "\n",
    "Let's OneHot encode the targets first"
   ]
  },
  {
   "cell_type": "code",
   "execution_count": 6,
   "metadata": {},
   "outputs": [
    {
     "name": "stderr",
     "output_type": "stream",
     "text": [
      "/home/matt/anaconda3/lib/python3.7/site-packages/sklearn/preprocessing/_encoders.py:415: FutureWarning: The handling of integer data will change in version 0.22. Currently, the categories are determined based on the range [0, max(values)], while in the future they will be determined based on the unique values.\n",
      "If you want the future behaviour and silence this warning, you can specify \"categories='auto'\".\n",
      "In case you used a LabelEncoder before this OneHotEncoder to convert the categories to integers, then you can now use the OneHotEncoder directly.\n",
      "  warnings.warn(msg, FutureWarning)\n"
     ]
    },
    {
     "name": "stdout",
     "output_type": "stream",
     "text": [
      "(60000, 10)\n",
      "(10000, 10)\n"
     ]
    },
    {
     "name": "stderr",
     "output_type": "stream",
     "text": [
      "/home/matt/anaconda3/lib/python3.7/site-packages/sklearn/preprocessing/_encoders.py:415: FutureWarning: The handling of integer data will change in version 0.22. Currently, the categories are determined based on the range [0, max(values)], while in the future they will be determined based on the unique values.\n",
      "If you want the future behaviour and silence this warning, you can specify \"categories='auto'\".\n",
      "In case you used a LabelEncoder before this OneHotEncoder to convert the categories to integers, then you can now use the OneHotEncoder directly.\n",
      "  warnings.warn(msg, FutureWarning)\n"
     ]
    }
   ],
   "source": [
    "#Copy your code from last assignment and place it here\n",
    "from sklearn.preprocessing import OneHotEncoder\n",
    "cat_encoder = OneHotEncoder()\n",
    "#y_train_1hot = cat_encoder.fit_transform(np.reshape(y_train_flat,(-1,1)))\n",
    "#y_test_1hot = cat_encoder.fit_transform(np.reshape(y_test_flat,(-1,1)))\n",
    "y_train_1hot = cat_encoder.fit_transform(y_train_flat)\n",
    "y_test_1hot = cat_encoder.fit_transform(y_test_flat)\n",
    "print(y_train_1hot.shape)\n",
    "print(y_test_1hot.shape)"
   ]
  },
  {
   "cell_type": "markdown",
   "metadata": {},
   "source": [
    "## Expected output:\n",
    "(60000, 10)\n",
    "(10000, 10)"
   ]
  },
  {
   "cell_type": "markdown",
   "metadata": {},
   "source": [
    "Now, let's build the model and train the it.  Use validation_split of 0.1 to allow for a 10% validation set, 5 epochs for training and set training to be verbos.  Keep in mind that this is a multi-class problem, so your loss should be <b>categorical_crossentropy</b> and for metrics use <b>accuracy</b>.  You will also need to bacth normalize and use dropout after each hidden layer.  The DNN structore should be:\n",
    "<p>nx-128(ReLu)</p>\n",
    "<p>64(ReLu)</p>\n",
    "<p>32(ReLu)</p>\n",
    "<p>16(ReLu)</p>\n",
    "<p>8(ReLu)</p>\n",
    "<p>ny(softmax))</p>"
   ]
  },
  {
   "cell_type": "code",
   "execution_count": 8,
   "metadata": {},
   "outputs": [
    {
     "name": "stdout",
     "output_type": "stream",
     "text": [
      "Train on 54000 samples, validate on 6000 samples\n",
      "Epoch 1/5\n",
      "54000/54000 [==============================] - 32s 593us/step - loss: 0.8546 - acc: 0.7315 - val_loss: 0.1964 - val_acc: 0.9623\n",
      "Epoch 2/5\n",
      "54000/54000 [==============================] - 31s 568us/step - loss: 0.6215 - acc: 0.8118 - val_loss: 0.1542 - val_acc: 0.9698\n",
      "Epoch 3/5\n",
      "54000/54000 [==============================] - 31s 572us/step - loss: 0.5651 - acc: 0.8296 - val_loss: 0.1247 - val_acc: 0.9763\n",
      "Epoch 4/5\n",
      "54000/54000 [==============================] - 32s 584us/step - loss: 0.5210 - acc: 0.8446 - val_loss: 0.1110 - val_acc: 0.9765\n",
      "Epoch 5/5\n",
      "54000/54000 [==============================] - 32s 588us/step - loss: 0.5044 - acc: 0.8515 - val_loss: 0.1069 - val_acc: 0.9772\n"
     ]
    }
   ],
   "source": [
    "K.clear_session()\n",
    "\n",
    "num_classes = 10 \n",
    "n_hidden1 = 128\n",
    "n_hidden2 = 64\n",
    "n_hidden3 = 32\n",
    "n_hidden4 = 16\n",
    "n_hidden5 = 8\n",
    "n_outputs = num_classes\n",
    "\n",
    "dropout_rate = 0.1\n",
    "learning_rate = 0.1\n",
    "num_epochs = 5\n",
    "    \n",
    "#REPLACE WITH YOUR CODE for he_normal initialization with seed 1.  \n",
    "#This initialization should be used for all hidden layers\n",
    "hidden_init = keras.initializers.he_normal(seed=1) \n",
    "\n",
    "#REPLACE WITH YOUR CODE for glorot_uniform initialization with seed 1\n",
    "#This initialization should be used for the output layers\n",
    "output_init = keras.initializers.glorot_uniform(seed=1)\n",
    "\n",
    "#REPLACE WITH YOUR CODE to create the model\n",
    "model = Sequential()\n",
    "\n",
    "#REPLACE WITH YOUR CODE to create the first hidden layer.  \n",
    "#Use Relu activation and hidden_init as indicated above\n",
    "#Use batch normalization and dropout with dropout_rate as indicated above.\n",
    "model.add(Dense(n_hidden1, kernel_initializer=hidden_init, input_shape=(X_train_flat.shape[1],)))\n",
    "model.add(BatchNormalization())\n",
    "model.add(Dropout(dropout_rate))\n",
    "model.add(Activation('relu'))\n",
    "\n",
    "#REPLACE WITH YOUR CODE to create the second hidden layer.  \n",
    "#Use Relu activation and hidden_init as indicated above\n",
    "#Use batch normalization and dropout with dropout_rate as indicated above.\n",
    "model.add(Dense(n_hidden2, kernel_initializer=hidden_init))\n",
    "model.add(BatchNormalization())\n",
    "model.add(Dropout(dropout_rate))\n",
    "model.add(Activation('relu'))\n",
    "\n",
    "#REPLACE WITH YOUR CODE to create the third hidden layer.  \n",
    "#Use Relu activation and hidden_init as indicated above\n",
    "#Use batch normalization and dropout with dropout_rate as indicated above.\n",
    "model.add(Dense(n_hidden3, kernel_initializer=hidden_init))\n",
    "model.add(BatchNormalization())\n",
    "model.add(Dropout(dropout_rate))\n",
    "model.add(Activation('relu'))\n",
    "\n",
    "#REPLACE WITH YOUR CODE to create the fourth hidden layer.  \n",
    "#Use Relu activation and hidden_init as indicated above\n",
    "#Use batch normalization and dropout with dropout_rate as indicated above.\n",
    "model.add(Dense(n_hidden4, kernel_initializer=hidden_init))\n",
    "model.add(BatchNormalization())\n",
    "model.add(Dropout(dropout_rate))\n",
    "model.add(Activation('relu'))\n",
    "\n",
    "#REPLACE WITH YOUR CODE to create the fifth hidden layer.  \n",
    "#Use Relu activation and hidden_init as indicated above\n",
    "#Use batch normalization and dropout with dropout_rate as indicated above.\n",
    "model.add(Dense(n_hidden5, kernel_initializer=hidden_init))\n",
    "model.add(BatchNormalization())\n",
    "model.add(Dropout(dropout_rate))\n",
    "model.add(Activation('relu'))\n",
    "\n",
    "#REPLACE WITH YOUR CODE to create the output hidden layer.  \n",
    "#Use softmax activation and output_init as indicated above\n",
    "#Use batch normalization and dropout with dropout_rate as indicated above.\n",
    "model.add(Dense(n_outputs, kernel_initializer=output_init))\n",
    "model.add(BatchNormalization())\n",
    "model.add(Dropout(dropout_rate))\n",
    "model.add(Activation('softmax'))\n",
    "\n",
    "#REPLACE WITH YOUR CODE to use Adagrad optimization with learning_rate as indicated above\n",
    "opt = keras.optimizers.Adagrad(learning_rate)\n",
    "\n",
    "#REPLACE WITH YOUR CODE - be sure to used proper loss function and used accuracy for metrics)\n",
    "model.compile(loss=\"categorical_crossentropy\", optimizer=opt, metrics=['acc'])\n",
    "\n",
    "#REPLACE WITH YOUR CODE use num_epochs, validation split of 10% and set training to be verbose)\n",
    "history = model.fit(X_train_flat, y_train_1hot,epochs=num_epochs,verbose=1, validation_split=0.1)"
   ]
  },
  {
   "cell_type": "markdown",
   "metadata": {},
   "source": [
    "Let's plot training curves and see how the model is doing on training and validation."
   ]
  },
  {
   "cell_type": "code",
   "execution_count": 9,
   "metadata": {},
   "outputs": [
    {
     "data": {
      "image/png": "[encoded data removed]",
      "text/plain": [
       "<Figure size 432x288 with 1 Axes>"
      ]
     },
     "metadata": {
      "needs_background": "light"
     },
     "output_type": "display_data"
    },
    {
     "data": {
      "image/png": "[encoded data removed]",
      "text/plain": [
       "<Figure size 432x288 with 1 Axes>"
      ]
     },
     "metadata": {
      "needs_background": "light"
     },
     "output_type": "display_data"
    },
    {
     "data": {
      "image/png": "[encoded data removed]",
      "text/plain": [
       "<Figure size 432x288 with 1 Axes>"
      ]
     },
     "metadata": {
      "needs_background": "light"
     },
     "output_type": "display_data"
    },
    {
     "data": {
      "image/png": "[encoded data removed]",
      "text/plain": [
       "<Figure size 432x288 with 1 Axes>"
      ]
     },
     "metadata": {
      "needs_background": "light"
     },
     "output_type": "display_data"
    }
   ],
   "source": [
    "training_fig = plt.figure()\n",
    "training_ax = training_fig.add_subplot(111)\n",
    "training_ax.plot(history.history['loss'])\n",
    "training_ax.plot(history.history['acc'])\n",
    "training_ax.set_title('Training loss and accuracy')\n",
    "training_ax.set_xlabel('epoch')\n",
    "training_ax.legend(['loss', 'accuracy'], loc='upper right')\n",
    "\n",
    "validation_fig = plt.figure()\n",
    "validation_ax = validation_fig.add_subplot(111)\n",
    "validation_ax.plot(history.history['val_loss'])\n",
    "validation_ax.plot(history.history['val_acc'])\n",
    "validation_ax.set_title('Validation loss and accuracy')\n",
    "validation_ax.set_xlabel('epoch')\n",
    "validation_ax.legend(['val_loss', 'val_accuracy'], loc='upper right')\n",
    "\n",
    "tarin_val_loss_fig = plt.figure()\n",
    "tarin_val_loss_ax = tarin_val_loss_fig.add_subplot(111)\n",
    "tarin_val_loss_ax.plot(history.history['loss'])\n",
    "tarin_val_loss_ax.plot(history.history['val_loss'])\n",
    "tarin_val_loss_ax.set_title('Training and Validation loss')\n",
    "tarin_val_loss_ax.set_xlabel('epoch')\n",
    "tarin_val_loss_ax.legend(['loss', 'val_loss'], loc='upper right')\n",
    "\n",
    "tarin_val_loss_fig = plt.figure()\n",
    "tarin_val_loss_ax = tarin_val_loss_fig.add_subplot(111)\n",
    "tarin_val_loss_ax.plot(history.history['acc'])\n",
    "tarin_val_loss_ax.plot(history.history['val_acc'])\n",
    "tarin_val_loss_ax.set_title('Training and Validation accuracy')\n",
    "tarin_val_loss_ax.set_xlabel('epoch')\n",
    "tarin_val_loss_ax.legend(['accuracy', 'val_accuracy'], loc='upper right')\n",
    "\n",
    "\n",
    "plt.show()"
   ]
  },
  {
   "cell_type": "markdown",
   "metadata": {},
   "source": [
    "## Expected output:\n",
    "<p>Your plots should be similar to the ones below, but they won't be exact match</P>\n",
    "<p><img src=\"Figure2.png\" width=\"40%\" height=\"40%\" align=\"left\"> <br></p>\n"
   ]
  },
  {
   "cell_type": "markdown",
   "metadata": {},
   "source": [
    "Now let's evaluate the model on the training and test images.  First, we will need to get the h values.  Keep in mind that the we need to inverse transform the 1hot encoded labels to the original labels."
   ]
  },
  {
   "cell_type": "code",
   "execution_count": 10,
   "metadata": {},
   "outputs": [],
   "source": [
    "p_train_1hot = model.predict(X_train_flat)\n",
    "h_train_1hot = np.array([elm for elm in p_train_1hot>0.5], dtype=int) #Convert probabilities to class labels)\n",
    "h_train =  np.squeeze(cat_encoder.inverse_transform(h_train_1hot)) #Retrive original class labels)\n",
    "\n",
    "p_train_1hot = model.predict(X_test_flat)\n",
    "h_test_1hot = np.array([elm for elm in p_train_1hot>0.5], dtype=int) \n",
    "h_test =  np.squeeze(cat_encoder.inverse_transform(h_test_1hot)) "
   ]
  },
  {
   "cell_type": "markdown",
   "metadata": {},
   "source": [
    "Next, we will measure the model performance on the training set and test set using Confusion Matrix, Average Accuracy, Average Precision, Average Recall and Average F1-Score. "
   ]
  },
  {
   "cell_type": "code",
   "execution_count": 11,
   "metadata": {},
   "outputs": [
    {
     "name": "stdout",
     "output_type": "stream",
     "text": [
      "Training Performance\n",
      "Average Train Confusion Matrix:\n",
      " [[5895    0    2    1    1    2   12    1    3    6]\n",
      " [  44 6630   10   16   11    1   14    9    6    1]\n",
      " [  68    3 5801   10   14    2    8   42    9    1]\n",
      " [  99    3   25 5872    0   52    0   41   21   18]\n",
      " [  24    3    3    1 5752    1   14    2    2   40]\n",
      " [  70    2    2   35    6 5272   17    1    7    9]\n",
      " [  27    0    0    0    8   21 5857    0    5    0]\n",
      " [  44   16   17    0   26    2    0 6129    2   29]\n",
      " [ 103   20    5   17    7   19   14    7 5633   26]\n",
      " [  75    4    0   10   61   17    0   39    7 5736]]\n",
      "Average Train Accuracy: 97.63%\n",
      "Average Train Precision 97.67%\n",
      "Average Train Recall: 97.62%\n",
      "Average Train F1: 97.62%\n",
      "Training Performance\n",
      "Average Test Confusion Matrix:\n",
      " [[ 971    1    0    0    0    1    5    1    1    0]\n",
      " [   3 1121    3    2    0    1    4    0    1    0]\n",
      " [  11    2 1000    1    3    2    1    9    3    0]\n",
      " [  11    0    3  976    0    7    0    9    3    1]\n",
      " [   5    0    1    0  962    0    6    2    0    6]\n",
      " [  14    0    0    6    1  863    5    0    1    2]\n",
      " [   9    2    0    0    2    3  941    0    1    0]\n",
      " [  11    6    8    1    2    0    0  994    1    5]\n",
      " [  30    0    3    2    4    3    1    3  925    3]\n",
      " [  26    2    0    1   15    4    0    6    0  955]]\n",
      "Average Test Accuracy: 97.08%\n",
      "Average Test Precision 97.15%\n",
      "Average Test Recall 97.06%\n",
      "Average Test F1: 97.07%\n"
     ]
    }
   ],
   "source": [
    "#Copy your code from last assignment and place it here\n",
    "cf_train = confusion_matrix(y_train_flat,h_train)\n",
    "ca_train = np.mean(accuracy_score(np.squeeze(y_train_flat),h_train))\n",
    "ps_train = np.mean(precision_score(y_train_flat,h_train, average=\"macro\")) \n",
    "rs_train = np.mean(recall_score(y_train_flat,h_train,average=\"macro\"))\n",
    "f1_train = np.mean(f1_score(y_train_flat,h_train,average=\"macro\"))\n",
    "print(\"Training Performance\")\n",
    "print(\"Average Train Confusion Matrix:\\n\", cf_train)\n",
    "print(\"Average Train Accuracy: {0:0.2%}\".format(ca_train))\n",
    "print(\"Average Train Precision {0:0.2%}\".format(ps_train))\n",
    "print(\"Average Train Recall: {0:0.2%}\".format(rs_train))\n",
    "print(\"Average Train F1: {0:0.2%}\".format(f1_train))\n",
    "\n",
    "cf_test = confusion_matrix(y_test_flat,h_test)\n",
    "ca_test = accuracy_score(np.squeeze(y_test_flat),h_test)\n",
    "ps_test = precision_score(y_test_flat,h_test,average=\"macro\")\n",
    "rs_test = recall_score(y_test_flat,h_test,average=\"macro\")\n",
    "f1_test = f1_score(y_test_flat,h_test,average=\"macro\")\n",
    "print(\"Training Performance\")\n",
    "print(\"Average Test Confusion Matrix:\\n\", cf_test)\n",
    "print(\"Average Test Accuracy: {0:0.2%}\".format(ca_test))\n",
    "print(\"Average Test Precision {0:0.2%}\".format(ps_test))\n",
    "print(\"Average Test Recall {0:0.2%}\".format(rs_test))\n",
    "print(\"Average Test F1: {0:0.2%}\".format(f1_test))"
   ]
  },
  {
   "cell_type": "markdown",
   "metadata": {},
   "source": [
    "## Expected output:\n",
    "<p> You performance should be close to the following, it won't be exact.</p>\n",
    "<p><img src=\"Figure3.png\" width=\"40%\" height=\"40%\" align=\"left\"> <br></p>\n"
   ]
  },
  {
   "cell_type": "markdown",
   "metadata": {},
   "source": [
    "Finally, let's examine a set of images and compare their predicted and actual labels."
   ]
  },
  {
   "cell_type": "code",
   "execution_count": 13,
   "metadata": {},
   "outputs": [
    {
     "data": {
      "image/png": "[encoded data removed]",
      "text/plain": [
       "<Figure size 216x216 with 25 Axes>"
      ]
     },
     "metadata": {
      "needs_background": "light"
     },
     "output_type": "display_data"
    }
   ],
   "source": [
    "np.random.seed(5)\n",
    "#Place your code from last assignment here\n",
    "h_test_int = h_test.astype(int) #I was getting an error about h_test being a float so I wasnt able to print the images\n",
    "# So I converted h_test to a integer array so it would work\n",
    "\n",
    "display_a_random_sample_of_images(5, X_test,y_test,h_test_int,title=\"Images\")"
   ]
  },
  {
   "cell_type": "markdown",
   "metadata": {},
   "source": [
    "## Expected output:\n",
    "<p> You output should be close to the following, but it won't be exact.</p>\n",
    "<p><img src=\"Figure4.png\" width=\"20%\" height=\"20%\" align=\"left\"> <br></p>"
   ]
  },
  {
   "cell_type": "code",
   "execution_count": null,
   "metadata": {},
   "outputs": [],
   "source": []
  }
 ],
 "metadata": {
  "kernelspec": {
   "display_name": "Python 3",
   "language": "python",
   "name": "python3"
  },
  "language_info": {
   "codemirror_mode": {
    "name": "ipython",
    "version": 3
   },
   "file_extension": ".py",
   "mimetype": "text/x-python",
   "name": "python",
   "nbconvert_exporter": "python",
   "pygments_lexer": "ipython3",
   "version": "3.7.4"
  }
 },
 "nbformat": 4,
 "nbformat_minor": 2
}
